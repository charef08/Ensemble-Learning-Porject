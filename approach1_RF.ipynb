{
 "cells": [
  {
   "attachments": {},
   "cell_type": "markdown",
   "metadata": {},
   "source": [
    "In this work, we are going to use the passengers' data of the Titanic. The principle aim will be to predict wethere a passenger survived the accident or not. The prediction will be done using a random forest algorihhm and based on several informations like the passenger age, his sexe, and his class on the boat."
   ]
  },
  {
   "attachments": {},
   "cell_type": "markdown",
   "metadata": {},
   "source": [
    "Random forests or random decision forests is an ensemble learning method for classification, regression and other tasks that operates by constructing a multitude of decision trees at training time. For classification tasks, the output of the random forest is the class selected by most trees"
   ]
  },
  {
   "attachments": {},
   "cell_type": "markdown",
   "metadata": {},
   "source": [
    "### Libraries"
   ]
  },
  {
   "cell_type": "code",
   "execution_count": 2,
   "metadata": {},
   "outputs": [],
   "source": [
    "import numpy as np \n",
    "import seaborn as sns \n",
    "import matplotlib.pyplot as plt \n",
    "%matplotlib inline\n",
    "import pandas as pd "
   ]
  },
  {
   "attachments": {},
   "cell_type": "markdown",
   "metadata": {},
   "source": [
    "### Reading the data"
   ]
  },
  {
   "cell_type": "code",
   "execution_count": 10,
   "metadata": {},
   "outputs": [
    {
     "name": "stdout",
     "output_type": "stream",
     "text": [
      "Index(['passengerid', 'survived', 'pclass', 'name', 'sex', 'age', 'sibsp',\n",
      "       'parch', 'ticket', 'fare', 'cabin', 'embarked'],\n",
      "      dtype='object')\n"
     ]
    }
   ],
   "source": [
    "data = pd.read_csv(\"data\\\\titanic.csv\")\n",
    "\n",
    "string_list = [each_string.lower() for each_string in data.columns]\n",
    "data.columns = string_list\n",
    "data.dropna(inplace=True)\n",
    "\n",
    "print(data.columns)"
   ]
  },
  {
   "attachments": {},
   "cell_type": "markdown",
   "metadata": {},
   "source": [
    "### Data Visualization"
   ]
  },
  {
   "cell_type": "code",
   "execution_count": 23,
   "metadata": {},
   "outputs": [
    {
     "name": "stdout",
     "output_type": "stream",
     "text": [
      "---Classes---\n",
      "Classes :  [1 3 2]\n",
      "Passengers by class :  [158  15  10]\n"
     ]
    },
    {
     "data": {
      "text/plain": [
       "[Text(0, 0, '158'), Text(0, 0, '15'), Text(0, 0, '10')]"
      ]
     },
     "execution_count": 23,
     "metadata": {},
     "output_type": "execute_result"
    },
    {
     "data": {
      "image/png": "[encoded data removed]",
      "text/plain": [
       "<Figure size 432x288 with 1 Axes>"
      ]
     },
     "metadata": {
      "needs_background": "light"
     },
     "output_type": "display_data"
    }
   ],
   "source": [
    "print('---Classes---')\n",
    "Classes = data['pclass'].unique()\n",
    "Passengers_per_class = data['pclass'].value_counts().values\n",
    "print('Classes : ', Classes)\n",
    "print('Passengers by class : ', Passengers_per_class)\n",
    "\n",
    "fig, ax = plt.subplots()\n",
    "bar_container = ax.bar([str(elm) for elm in Classes], Passengers_per_class)\n",
    "ax.set(xlabel='Classes', ylabel='Passengers', title='Passengers by class', ylim=(0, 200))\n",
    "ax.bar_label(bar_container)"
   ]
  },
  {
   "cell_type": "code",
   "execution_count": 25,
   "metadata": {},
   "outputs": [
    {
     "name": "stdout",
     "output_type": "stream",
     "text": [
      "---Genres---\n",
      "Gender : ['female' 'male']\n",
      "Passengengers by gender : [95 88]\n"
     ]
    },
    {
     "data": {
      "text/plain": [
       "[Text(0, 0, '95'), Text(0, 0, '88')]"
      ]
     },
     "execution_count": 25,
     "metadata": {},
     "output_type": "execute_result"
    },
    {
     "data": {
      "image/png": "[encoded data removed]",
      "text/plain": [
       "<Figure size 432x288 with 1 Axes>"
      ]
     },
     "metadata": {
      "needs_background": "light"
     },
     "output_type": "display_data"
    }
   ],
   "source": [
    "print('---Genres---')\n",
    "genders =  data['sex'].unique()\n",
    "Passengers_per_gender = data['sex'].value_counts().values\n",
    "print('Gender :', genders)\n",
    "print('Passengengers by gender :', Passengers_per_gender)\n",
    "\n",
    "fig, ax = plt.subplots()\n",
    "bar_container = ax.bar([str(elm) for elm in genders], Passengers_per_gender)\n",
    "ax.set(xlabel='Genders', ylabel='Passengers', title='Passengers by gender', ylim=(0, 200))\n",
    "ax.bar_label(bar_container)"
   ]
  },
  {
   "cell_type": "code",
   "execution_count": 31,
   "metadata": {},
   "outputs": [
    {
     "name": "stdout",
     "output_type": "stream",
     "text": [
      "---Age---\n",
      "[38.   35.   54.    4.   58.   34.   28.   19.   49.   65.   45.   29.\n",
      " 25.   23.   46.   71.   21.   47.   24.   32.5  37.   36.5  22.   61.\n",
      " 56.   50.    1.    3.   44.    2.   40.   31.   32.   62.   30.   52.\n",
      " 63.   36.    0.92 17.   18.   16.   45.5  41.   60.   27.   33.   14.\n",
      " 64.   48.   55.   39.   53.   42.   80.   15.   70.    6.   51.   57.\n",
      " 43.   11.   26.  ]\n",
      "[0.92, 1.0, 2.0, 3.0, 4.0, 6.0, 11.0, 14.0, 15.0, 16.0, 17.0, 18.0, 19.0, 21.0, 22.0, 23.0, 24.0, 25.0, 26.0, 27.0, 28.0, 29.0, 30.0, 31.0, 32.0, 32.5, 33.0, 34.0, 35.0, 36.0, 36.5, 37.0, 38.0, 39.0, 40.0, 41.0, 42.0, 43.0, 44.0, 45.0, 45.5, 46.0, 47.0, 48.0, 49.0, 50.0, 51.0, 52.0, 53.0, 54.0, 55.0, 56.0, 57.0, 58.0, 60.0, 61.0, 62.0, 63.0, 64.0, 65.0, 70.0, 71.0, 80.0]\n"
     ]
    }
   ],
   "source": [
    "print('---Age---')\n",
    "ages =  data['age'].unique()\n",
    "print(ages)\n",
    "print(sorted(ages))\n",
    "# Passengers_per_gender = data['sex'].value_counts().values\n",
    "# print('Gender :', genders)\n",
    "# print('Passengengers by gender :', Passengers_per_gender)\n",
    "\n",
    "# fig, ax = plt.subplots()\n",
    "# bar_container = ax.bar([str(elm) for elm in genders], Passengers_per_gender)\n",
    "# ax.set(xlabel='Genders', ylabel='Passengers', title='Passengers by gender', ylim=(0, 200))\n",
    "# ax.bar_label(bar_container)\n",
    "\n",
    "<=19\n",
    "20 - 30\n",
    "31 - 40\n",
    "41 - 50\n",
    "51 - 60\n",
    ">=61"
   ]
  }
 ],
 "metadata": {
  "kernelspec": {
   "display_name": "Python 3",
   "language": "python",
   "name": "python3"
  },
  "language_info": {
   "codemirror_mode": {
    "name": "ipython",
    "version": 3
   },
   "file_extension": ".py",
   "mimetype": "text/x-python",
   "name": "python",
   "nbconvert_exporter": "python",
   "pygments_lexer": "ipython3",
   "version": "3.9.0"
  },
  "orig_nbformat": 4,
  "vscode": {
   "interpreter": {
    "hash": "11938c6bc6919ae2720b4d5011047913343b08a43b18698fd82dedb0d4417594"
   }
  }
 },
 "nbformat": 4,
 "nbformat_minor": 2
}
