{
 "cells": [
  {
   "attachments": {},
   "cell_type": "markdown",
   "metadata": {},
   "source": [
    "In this work, we are going to use the passengers' data of the Titanic. The main aim will be to predict wethere a passenger survived the accident or not. The prediction will be done using a random forest algorithm and based on several informations like the passenger age, his sexe, his class on the boat, and more..."
   ]
  },
  {
   "attachments": {},
   "cell_type": "markdown",
   "metadata": {},
   "source": [
    "Random forests or random decision forests is an ensemble learning method for classification, regression and other tasks that operates by constructing a multitude of decision trees at training time. For classification tasks, the output of the random forest is the class selected by most trees"
   ]
  },
  {
   "attachments": {},
   "cell_type": "markdown",
   "metadata": {},
   "source": [
    "### Libraries"
   ]
  },
  {
   "cell_type": "code",
   "execution_count": 81,
   "metadata": {},
   "outputs": [],
   "source": [
    "import numpy as np \n",
    "import seaborn as sns \n",
    "import matplotlib.pyplot as plt \n",
    "%matplotlib inline\n",
    "import pandas as pd \n",
    "from sklearn import preprocessing\n",
    "from sklearn.ensemble import RandomForestClassifier\n",
    "from sklearn.model_selection import train_test_split\n",
    "from sklearn.model_selection import cross_val_score, cross_val_predict\n",
    "from sklearn.metrics import accuracy_score, classification_report, confusion_matrix"
   ]
  },
  {
   "attachments": {},
   "cell_type": "markdown",
   "metadata": {},
   "source": [
    "### Reading the data"
   ]
  },
  {
   "cell_type": "code",
   "execution_count": 82,
   "metadata": {},
   "outputs": [
    {
     "name": "stdout",
     "output_type": "stream",
     "text": [
      "    passengerid  survived  pclass  \\\n",
      "1             2         1       1   \n",
      "3             4         1       1   \n",
      "6             7         0       1   \n",
      "10           11         1       3   \n",
      "11           12         1       1   \n",
      "\n",
      "                                                 name     sex   age  sibsp  \\\n",
      "1   Cumings, Mrs. John Bradley (Florence Briggs Th...  female  38.0      1   \n",
      "3        Futrelle, Mrs. Jacques Heath (Lily May Peel)  female  35.0      1   \n",
      "6                             McCarthy, Mr. Timothy J    male  54.0      0   \n",
      "10                    Sandstrom, Miss. Marguerite Rut  female   4.0      1   \n",
      "11                           Bonnell, Miss. Elizabeth  female  58.0      0   \n",
      "\n",
      "    parch    ticket     fare cabin embarked  \n",
      "1       0  PC 17599  71.2833   C85        C  \n",
      "3       0    113803  53.1000  C123        S  \n",
      "6       0     17463  51.8625   E46        S  \n",
      "10      1   PP 9549  16.7000    G6        S  \n",
      "11      0    113783  26.5500  C103        S  \n"
     ]
    }
   ],
   "source": [
    "data = pd.read_csv(\"data\\\\titanic.csv\")\n",
    "\n",
    "string_list = [each_string.lower() for each_string in data.columns]\n",
    "data.columns = string_list\n",
    "data.dropna(inplace=True)\n",
    "\n",
    "print(data.head(5))"
   ]
  },
  {
   "attachments": {},
   "cell_type": "markdown",
   "metadata": {},
   "source": [
    "### Data Visualization"
   ]
  },
  {
   "cell_type": "code",
   "execution_count": 67,
   "metadata": {},
   "outputs": [
    {
     "name": "stdout",
     "output_type": "stream",
     "text": [
      "---Classes---\n",
      "Classes :  [1 3 2]\n",
      "Passengers by class :  [158  15  10]\n"
     ]
    },
    {
     "data": {
      "text/plain": [
       "[Text(0, 0, '158'), Text(0, 0, '15'), Text(0, 0, '10')]"
      ]
     },
     "execution_count": 67,
     "metadata": {},
     "output_type": "execute_result"
    },
    {
     "data": {
      "image/png": "[encoded data removed]",
      "text/plain": [
       "<Figure size 432x288 with 1 Axes>"
      ]
     },
     "metadata": {
      "needs_background": "light"
     },
     "output_type": "display_data"
    }
   ],
   "source": [
    "print('---Classes---')\n",
    "Classes = data['pclass'].unique()\n",
    "Passengers_per_class = data['pclass'].value_counts().values\n",
    "print('Classes : ', Classes)\n",
    "print('Passengers by class : ', Passengers_per_class)\n",
    "\n",
    "fig, ax = plt.subplots()\n",
    "bar_container = ax.bar([str(elm) for elm in Classes], Passengers_per_class)\n",
    "ax.set(xlabel='Classes', ylabel='Passengers', title='Passengers by class', ylim=(0, 200))\n",
    "ax.bar_label(bar_container)"
   ]
  },
  {
   "cell_type": "code",
   "execution_count": 68,
   "metadata": {},
   "outputs": [
    {
     "name": "stdout",
     "output_type": "stream",
     "text": [
      "---Genres---\n",
      "Gender : ['female' 'male']\n",
      "Passengengers by gender : [95 88]\n"
     ]
    },
    {
     "data": {
      "text/plain": [
       "[Text(0, 0, '95'), Text(0, 0, '88')]"
      ]
     },
     "execution_count": 68,
     "metadata": {},
     "output_type": "execute_result"
    },
    {
     "data": {
      "image/png": "[encoded data removed]",
      "text/plain": [
       "<Figure size 432x288 with 1 Axes>"
      ]
     },
     "metadata": {
      "needs_background": "light"
     },
     "output_type": "display_data"
    }
   ],
   "source": [
    "print('---Genres---')\n",
    "genders =  data['sex'].unique()\n",
    "Passengers_per_gender = data['sex'].value_counts().values\n",
    "print('Gender :', genders)\n",
    "print('Passengengers by gender :', Passengers_per_gender)\n",
    "\n",
    "fig, ax = plt.subplots()\n",
    "bar_container = ax.bar([str(elm) for elm in genders], Passengers_per_gender)\n",
    "ax.set(xlabel='Genders', ylabel='Passengers', title='Passengers by gender', ylim=(0, 200))\n",
    "ax.bar_label(bar_container)"
   ]
  },
  {
   "cell_type": "code",
   "execution_count": 76,
   "metadata": {},
   "outputs": [
    {
     "name": "stdout",
     "output_type": "stream",
     "text": [
      "---Age---\n",
      "Age ranges : [(0, 19), (20, 30), (31, 40), (41, 50), (51, 60), (61, 80)]\n",
      "Passengengers by age range : [39, 30, 36, 33, 27, 24]\n"
     ]
    },
    {
     "data": {
      "image/png": "[encoded data removed]",
      "text/plain": [
       "<Figure size 432x288 with 1 Axes>"
      ]
     },
     "metadata": {},
     "output_type": "display_data"
    }
   ],
   "source": [
    "print('---Age---')\n",
    "ages =  data['age'].unique()\n",
    "\n",
    "ranges = [(0,19), (20,30), (31,40), (41,50), (51,60), (61,80)]\n",
    "\n",
    "Passengers_by_age_ranges = []\n",
    "for elm in ranges:\n",
    "    som = 0\n",
    "    for age in ages:\n",
    "        if age>=elm[0] and age<=elm[1]:\n",
    "            som+= len(data[data['age']==21].value_counts())\n",
    "    Passengers_by_age_ranges.append(som)\n",
    "\n",
    "print('Age ranges :', ranges)\n",
    "print('Passengengers by age range :', Passengers_by_age_ranges)\n",
    "\n",
    "fig, ax = plt.subplots()\n",
    "sum = 0\n",
    "for elm in Passengers_by_age_ranges:\n",
    "    sum+= elm \n",
    "ax.pie([(elm/sum)*100 for elm in Passengers_by_age_ranges], labels = ['['+str(elm[0])+'-'+str(elm[1])+']' for elm in ranges],autopct='%1.1f%%', startangle=90)\n",
    "ax.axis('equal')\n",
    "plt.show()\n",
    "\n"
   ]
  },
  {
   "attachments": {},
   "cell_type": "markdown",
   "metadata": {},
   "source": [
    "### Data prepocessing"
   ]
  },
  {
   "cell_type": "code",
   "execution_count": 83,
   "metadata": {},
   "outputs": [
    {
     "name": "stdout",
     "output_type": "stream",
     "text": [
      "    pclass  sex   age     fare  embarked\n",
      "1        1    0  38.0  71.2833         1\n",
      "3        1    0  35.0  53.1000         0\n",
      "6        1    1  54.0  51.8625         0\n",
      "10       3    0   4.0  16.7000         0\n",
      "11       1    0  58.0  26.5500         0\n"
     ]
    }
   ],
   "source": [
    "# binarie columns\n",
    "Y = data[['survived']].copy()\n",
    "X = data[['pclass', 'sex', 'age', 'fare', 'embarked']].copy()\n",
    "lb = preprocessing.LabelBinarizer()\n",
    "\n",
    "X['sex'] = lb.fit_transform(X['sex'])\n",
    "X['embarked'] = lb.fit_transform(X['embarked'])\n",
    "\n",
    "print(X.head(5))"
   ]
  },
  {
   "cell_type": "code",
   "execution_count": 85,
   "metadata": {},
   "outputs": [],
   "source": [
    "# Train Test split\n",
    "X_train, X_test, y_train, y_test = train_test_split(X, Y, test_size=0.2)"
   ]
  },
  {
   "attachments": {},
   "cell_type": "markdown",
   "metadata": {},
   "source": [
    "### Model evalution function"
   ]
  },
  {
   "cell_type": "code",
   "execution_count": 86,
   "metadata": {},
   "outputs": [
    {
     "ename": "IndentationError",
     "evalue": "expected an indented block (Temp/ipykernel_8952/2886666123.py, line 1)",
     "output_type": "error",
     "traceback": [
      "\u001b[1;36m  File \u001b[1;32m\"C:\\Users\\dell\\AppData\\Local\\Temp/ipykernel_8952/2886666123.py\"\u001b[1;36m, line \u001b[1;32m1\u001b[0m\n\u001b[1;33m    def print_score(clf, X_train, X_test, y_train, y_test, train = True):\u001b[0m\n\u001b[1;37m                                                                         ^\u001b[0m\n\u001b[1;31mIndentationError\u001b[0m\u001b[1;31m:\u001b[0m expected an indented block\n"
     ]
    }
   ],
   "source": [
    "def print_score(clf, X_train, X_test, y_train, y_test, train = True):\n",
    "    "
   ]
  }
 ],
 "metadata": {
  "kernelspec": {
   "display_name": "Python 3",
   "language": "python",
   "name": "python3"
  },
  "language_info": {
   "codemirror_mode": {
    "name": "ipython",
    "version": 3
   },
   "file_extension": ".py",
   "mimetype": "text/x-python",
   "name": "python",
   "nbconvert_exporter": "python",
   "pygments_lexer": "ipython3",
   "version": "3.9.0"
  },
  "orig_nbformat": 4,
  "vscode": {
   "interpreter": {
    "hash": "11938c6bc6919ae2720b4d5011047913343b08a43b18698fd82dedb0d4417594"
   }
  }
 },
 "nbformat": 4,
 "nbformat_minor": 2
}
